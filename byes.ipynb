{
  "nbformat": 4,
  "nbformat_minor": 0,
  "metadata": {
    "colab": {
      "provenance": [],
      "authorship_tag": "ABX9TyOvsVewElV8dQQZaKEX9Zle",
      "include_colab_link": true
    },
    "kernelspec": {
      "name": "python3",
      "display_name": "Python 3"
    },
    "language_info": {
      "name": "python"
    }
  },
  "cells": [
    {
      "cell_type": "markdown",
      "metadata": {
        "id": "view-in-github",
        "colab_type": "text"
      },
      "source": [
        "<a href=\"https://colab.research.google.com/github/Maria1007mart/sort_news_2/blob/main/byes.ipynb\" target=\"_parent\"><img src=\"https://colab.research.google.com/assets/colab-badge.svg\" alt=\"Open In Colab\"/></a>"
      ]
    },
    {
      "cell_type": "code",
      "execution_count": null,
      "metadata": {
        "id": "lEdTtPsOqbM9"
      },
      "outputs": [],
      "source": [
        "import numpy as np\n",
        "import pandas as pd"
      ]
    },
    {
      "cell_type": "code",
      "source": [
        "import os\n",
        "for dirname, _, filenames in os.walk('/kaggle/input'):\n",
        "    for filename in filenames:\n",
        "        print(os.path.join(dirname, filename))"
      ],
      "metadata": {
        "id": "Eg2UdJXRrF6E"
      },
      "execution_count": null,
      "outputs": []
    },
    {
      "cell_type": "code",
      "source": [
        "!wget http://setup.johnsnowlabs.com/kaggle.sh -O - | bash "
      ],
      "metadata": {
        "colab": {
          "base_uri": "https://localhost:8080/"
        },
        "id": "9ACSL3yyrLa6",
        "outputId": "b6bf4eac-f858-4095-b431-302943a25d78"
      },
      "execution_count": null,
      "outputs": [
        {
          "output_type": "stream",
          "name": "stdout",
          "text": [
            "--2023-03-29 09:31:38--  http://setup.johnsnowlabs.com/kaggle.sh\n",
            "Resolving setup.johnsnowlabs.com (setup.johnsnowlabs.com)... 51.158.130.125\n",
            "Connecting to setup.johnsnowlabs.com (setup.johnsnowlabs.com)|51.158.130.125|:80... connected.\n",
            "HTTP request sent, awaiting response... 302 Found\n",
            "Location: https://setup.johnsnowlabs.com/kaggle.sh [following]\n",
            "--2023-03-29 09:31:38--  https://setup.johnsnowlabs.com/kaggle.sh\n",
            "Connecting to setup.johnsnowlabs.com (setup.johnsnowlabs.com)|51.158.130.125|:443... connected.\n",
            "HTTP request sent, awaiting response... 302 Moved Temporarily\n",
            "Location: https://raw.githubusercontent.com/JohnSnowLabs/spark-nlp/master/scripts/kaggle_setup.sh [following]\n",
            "--2023-03-29 09:31:39--  https://raw.githubusercontent.com/JohnSnowLabs/spark-nlp/master/scripts/kaggle_setup.sh\n",
            "Resolving raw.githubusercontent.com (raw.githubusercontent.com)... 185.199.108.133, 185.199.109.133, 185.199.110.133, ...\n",
            "Connecting to raw.githubusercontent.com (raw.githubusercontent.com)|185.199.108.133|:443... connected.\n",
            "HTTP request sent, awaiting response... 200 OK\n",
            "Length: 1192 (1.2K) [text/plain]\n",
            "Saving to: ‘STDOUT’\n",
            "\n",
            "-                     0%[                    ]       0  --.-KB/s               Installing PySpark 3.2.3 and Spark NLP 4.3.2\n",
            "-                   100%[===================>]   1.16K  --.-KB/s    in 0s      \n",
            "\n",
            "2023-03-29 09:31:39 (46.0 MB/s) - written to stdout [1192/1192]\n",
            "\n",
            "setup Kaggle for PySpark 3.2.3 and Spark NLP 4.3.2\n",
            "\u001b[2K     \u001b[90m━━━━━━━━━━━━━━━━━━━━━━━━━━━━━━━━━━━━━━━\u001b[0m \u001b[32m281.5/281.5 MB\u001b[0m \u001b[31m4.4 MB/s\u001b[0m eta \u001b[36m0:00:00\u001b[0m\n",
            "\u001b[?25h  Preparing metadata (setup.py) ... \u001b[?25l\u001b[?25hdone\n",
            "\u001b[2K     \u001b[90m━━━━━━━━━━━━━━━━━━━━━━━━━━━━━━━━━━━━━━\u001b[0m \u001b[32m473.2/473.2 KB\u001b[0m \u001b[31m35.3 MB/s\u001b[0m eta \u001b[36m0:00:00\u001b[0m\n",
            "\u001b[2K     \u001b[90m━━━━━━━━━━━━━━━━━━━━━━━━━━━━━━━━━━━━━━\u001b[0m \u001b[32m199.7/199.7 KB\u001b[0m \u001b[31m21.7 MB/s\u001b[0m eta \u001b[36m0:00:00\u001b[0m\n",
            "\u001b[?25h  Building wheel for pyspark (setup.py) ... \u001b[?25l\u001b[?25hdone\n"
          ]
        }
      ]
    },
    {
      "cell_type": "code",
      "source": [
        "from pyspark.ml import Pipeline\n",
        "from pyspark.sql import SparkSession\n",
        "from pyspark.ml.feature import HashingTF, IDF, StringIndexer, IndexToString\n",
        "from pyspark.ml.classification import NaiveBayes\n",
        "import pyspark.sql.functions as F\n",
        "from sparknlp.annotator import *\n",
        "from sparknlp.common import *\n",
        "from sparknlp.base import *\n",
        "import sparknlp"
      ],
      "metadata": {
        "id": "xjACYB61rPkM"
      },
      "execution_count": null,
      "outputs": []
    },
    {
      "cell_type": "code",
      "source": [
        "spark = sparknlp.start()"
      ],
      "metadata": {
        "id": "-BPPBA4rrS5F"
      },
      "execution_count": null,
      "outputs": []
    },
    {
      "cell_type": "code",
      "source": [
        "main_df = spark.read.csv(\n",
        "    'lenta-ru-news.csv',\n",
        "    header=True,\n",
        "    multiLine=True,\n",
        "    escape=\"\\\"\")\n",
        "main_df.show()"
      ],
      "metadata": {
        "colab": {
          "base_uri": "https://localhost:8080/"
        },
        "id": "_vjSOEenrWrM",
        "outputId": "089a4e22-dc26-46f8-8e18-66276aed0c9e"
      },
      "execution_count": 12,
      "outputs": [
        {
          "output_type": "stream",
          "name": "stdout",
          "text": [
            "+--------------------+--------------------+--------------------+----------+--------------+----------+\n",
            "|                 url|               title|                text|     topic|          tags|      date|\n",
            "+--------------------+--------------------+--------------------+----------+--------------+----------+\n",
            "|https://lenta.ru/...|1914. Русские вой...|Бои у Сопоцкина и...|Библиотека|Первая мировая|1914/09/16|\n",
            "|https://lenta.ru/...|1914. Праздновани...|Министерство наро...|Библиотека|Первая мировая|1914/09/16|\n",
            "|https://lenta.ru/...|1914. Das ist Nes...|Штабс-капитан П. ...|Библиотека|Первая мировая|1914/09/17|\n",
            "|https://lenta.ru/...|1914. Бульдог-гон...|Фотограф-корреспо...|Библиотека|Первая мировая|1914/09/17|\n",
            "|https://lenta.ru/...|1914. Под Люблино...|Лица, приехавшие ...|Библиотека|Первая мировая|1914/09/18|\n",
            "|https://lenta.ru/...|Космонавты сомнев...|Как стало известн...|    Россия|           Все|1999/08/31|\n",
            "|https://lenta.ru/...|Взрыв в центре Мо...|В зале игровых ав...|    Россия|           Все|1999/08/31|\n",
            "|https://lenta.ru/...|Япония кредитует ...|Япония приняла ре...|    Россия|           Все|1999/08/31|\n",
            "|https://lenta.ru/...|Британцы отмечают...|Британцы отмечают...|       Мир|           Все|1999/08/31|\n",
            "|https://lenta.ru/...|Отмытые через Ban...|В понедельник дир...|    Россия|           Все|1999/08/31|\n",
            "|https://lenta.ru/...|C 1 сентября ввод...|С 1 сентября на в...|    Россия|           Все|1999/08/31|\n",
            "|https://lenta.ru/...|Создан департамен...|Указом президента...|    Россия|           Все|1999/08/31|\n",
            "|https://lenta.ru/...|Южно-Сахалинск об...|Сегодня областной...|    Россия|           Все|1999/08/31|\n",
            "|https://lenta.ru/...|Леворадикалы созд...|Бывший шеф Службы...|    Россия|           Все|1999/08/31|\n",
            "|https://lenta.ru/...|Еще одно землетря...|подземный толчок ...|       Мир|           Все|1999/08/31|\n",
            "|https://lenta.ru/...|В горах Дагестана...|Сегодня утром в р...|    Россия|           Все|1999/08/31|\n",
            "|https://lenta.ru/...|Карачаево-Черкеси...|Намеченная на сег...|    Россия|           Все|1999/08/31|\n",
            "|https://lenta.ru/...|Коржаков готов ра...|На состоявшейся с...|    Россия|           Все|1999/08/31|\n",
            "|https://lenta.ru/...|Российские национ...|15 представителей...|       Мир|           Все|1999/08/31|\n",
            "|https://lenta.ru/...|Киргизия ведет бо...|На юге Киргизии, ...|       Мир|           Все|1999/08/31|\n",
            "+--------------------+--------------------+--------------------+----------+--------------+----------+\n",
            "only showing top 20 rows\n",
            "\n"
          ]
        }
      ]
    },
    {
      "cell_type": "code",
      "source": [
        "main_df.count()"
      ],
      "metadata": {
        "id": "k2cmAfbOraSf",
        "colab": {
          "base_uri": "https://localhost:8080/"
        },
        "outputId": "4a9d3e5a-9ce7-4f9d-c979-0631eb05e4af"
      },
      "execution_count": 13,
      "outputs": [
        {
          "output_type": "execute_result",
          "data": {
            "text/plain": [
              "15901"
            ]
          },
          "metadata": {},
          "execution_count": 13
        }
      ]
    },
    {
      "cell_type": "code",
      "source": [
        "filtered_df = main_df \\\n",
        "    .na.drop(subset=[\"topic\"]) \\\n",
        "    .select([\"text\", \"topic\"]) \\\n",
        "    .withColumn(\"text\", F.regexp_replace(F.col(\"text\"), \"[\\n\\r]\", \" \")) \\\n",
        "    .withColumn(\"text\", F.regexp_replace(F.col(\"text\"), \".Rambler Title \", \"\")) \\\n",
        "    .withColumn(\"text\", F.trim(F.col(\"text\")))\n",
        "filtered_df.show()"
      ],
      "metadata": {
        "id": "TH0koveBreFY",
        "colab": {
          "base_uri": "https://localhost:8080/"
        },
        "outputId": "4dca8c9b-38ad-4d2d-eb4d-232576a8b006"
      },
      "execution_count": 14,
      "outputs": [
        {
          "output_type": "stream",
          "name": "stdout",
          "text": [
            "+--------------------+----------+\n",
            "|                text|     topic|\n",
            "+--------------------+----------+\n",
            "|Бои у Сопоцкина и...|Библиотека|\n",
            "|Министерство наро...|Библиотека|\n",
            "|Штабс-капитан П. ...|Библиотека|\n",
            "|Фотограф-корреспо...|Библиотека|\n",
            "|Лица, приехавшие ...|Библиотека|\n",
            "|Как стало известн...|    Россия|\n",
            "|В зале игровых ав...|    Россия|\n",
            "|Япония приняла ре...|    Россия|\n",
            "|Британцы отмечают...|       Мир|\n",
            "|В понедельник дир...|    Россия|\n",
            "|С 1 сентября на в...|    Россия|\n",
            "|Указом президента...|    Россия|\n",
            "|Сегодня областной...|    Россия|\n",
            "|Бывший шеф Службы...|    Россия|\n",
            "|подземный толчок ...|       Мир|\n",
            "|Сегодня утром в р...|    Россия|\n",
            "|Намеченная на сег...|    Россия|\n",
            "|На состоявшейся с...|    Россия|\n",
            "|15 представителей...|       Мир|\n",
            "|На юге Киргизии, ...|       Мир|\n",
            "+--------------------+----------+\n",
            "only showing top 20 rows\n",
            "\n"
          ]
        }
      ]
    },
    {
      "cell_type": "code",
      "source": [
        "filtered_df.count()"
      ],
      "metadata": {
        "id": "3HfBdtP0rkqt",
        "colab": {
          "base_uri": "https://localhost:8080/"
        },
        "outputId": "3fba1c32-4339-49d9-ad36-de176306c28b"
      },
      "execution_count": 15,
      "outputs": [
        {
          "output_type": "execute_result",
          "data": {
            "text/plain": [
              "17416"
            ]
          },
          "metadata": {},
          "execution_count": 15
        }
      ]
    },
    {
      "cell_type": "code",
      "source": [
        "count_df = filtered_df\\\n",
        "    .groupBy(\"topic\")\\\n",
        "    .count()\\\n",
        "    .orderBy(F.col(\"count\").desc())\n",
        "count_df.show()"
      ],
      "metadata": {
        "id": "40SVcYkZrosc",
        "colab": {
          "base_uri": "https://localhost:8080/"
        },
        "outputId": "c29690db-821b-4c4b-9df1-0aaa7834f4ae"
      },
      "execution_count": 16,
      "outputs": [
        {
          "output_type": "stream",
          "name": "stdout",
          "text": [
            "+--------------+-----+\n",
            "|         topic|count|\n",
            "+--------------+-----+\n",
            "|        Россия| 8596|\n",
            "|           Мир| 3736|\n",
            "|     Экономика| 2400|\n",
            "|Интернет и СМИ| 1594|\n",
            "|         Спорт|  845|\n",
            "|      Культура|  557|\n",
            "|      Из жизни|  197|\n",
            "|    Библиотека|    5|\n",
            "+--------------+-----+\n",
            "\n"
          ]
        }
      ]
    },
    {
      "cell_type": "code",
      "source": [
        "count_df.count()"
      ],
      "metadata": {
        "id": "ks2BhgzHrt9x",
        "colab": {
          "base_uri": "https://localhost:8080/"
        },
        "outputId": "e248ebb3-201e-4f75-95b6-070bbde65ee5"
      },
      "execution_count": 17,
      "outputs": [
        {
          "output_type": "execute_result",
          "data": {
            "text/plain": [
              "8"
            ]
          },
          "metadata": {},
          "execution_count": 17
        }
      ]
    },
    {
      "cell_type": "code",
      "source": [
        "selected_rows = count_df\\\n",
        "    .select(\"topic\")\\\n",
        "    .limit(5)\\\n",
        "    .collect()\n",
        "selected_topics = [row.topic for row in selected_rows]\n",
        "selected_topics"
      ],
      "metadata": {
        "id": "FdkTgJEgryS9",
        "colab": {
          "base_uri": "https://localhost:8080/"
        },
        "outputId": "d22d80c1-c212-4603-bc76-abe7b0201957"
      },
      "execution_count": 18,
      "outputs": [
        {
          "output_type": "execute_result",
          "data": {
            "text/plain": [
              "['Россия', 'Мир', 'Экономика', 'Интернет и СМИ', 'Спорт']"
            ]
          },
          "metadata": {},
          "execution_count": 18
        }
      ]
    },
    {
      "cell_type": "code",
      "source": [
        "df = filtered_df\\\n",
        "    .filter(F.col(\"topic\").isin(selected_topics))\n",
        "df.show()"
      ],
      "metadata": {
        "id": "r-zCCzLEr4K2",
        "colab": {
          "base_uri": "https://localhost:8080/"
        },
        "outputId": "ef0c0369-5938-4844-fdbc-3f17ef624f97"
      },
      "execution_count": 19,
      "outputs": [
        {
          "output_type": "stream",
          "name": "stdout",
          "text": [
            "+--------------------+------+\n",
            "|                text| topic|\n",
            "+--------------------+------+\n",
            "|Как стало известн...|Россия|\n",
            "|В зале игровых ав...|Россия|\n",
            "|Япония приняла ре...|Россия|\n",
            "|Британцы отмечают...|   Мир|\n",
            "|В понедельник дир...|Россия|\n",
            "|С 1 сентября на в...|Россия|\n",
            "|Указом президента...|Россия|\n",
            "|Сегодня областной...|Россия|\n",
            "|Бывший шеф Службы...|Россия|\n",
            "|подземный толчок ...|   Мир|\n",
            "|Сегодня утром в р...|Россия|\n",
            "|Намеченная на сег...|Россия|\n",
            "|На состоявшейся с...|Россия|\n",
            "|15 представителей...|   Мир|\n",
            "|На юге Киргизии, ...|   Мир|\n",
            "|Россия крайне нег...|   Мир|\n",
            "|По сведениям мисс...|   Мир|\n",
            "|Соединенные Штаты...|   Мир|\n",
            "|\"Женщины России\" ...|Россия|\n",
            "|Скандал по поводу...|   Мир|\n",
            "+--------------------+------+\n",
            "only showing top 20 rows\n",
            "\n"
          ]
        }
      ]
    },
    {
      "cell_type": "code",
      "source": [
        "df.count()"
      ],
      "metadata": {
        "id": "n7YuJl29r8EB",
        "colab": {
          "base_uri": "https://localhost:8080/"
        },
        "outputId": "a4638420-7c9e-4e2b-c78c-9085c8dd9196"
      },
      "execution_count": 20,
      "outputs": [
        {
          "output_type": "execute_result",
          "data": {
            "text/plain": [
              "19699"
            ]
          },
          "metadata": {},
          "execution_count": 20
        }
      ]
    },
    {
      "cell_type": "code",
      "source": [
        "train_df, test_df = df.randomSplit([0.8, 0.2], seed = 1)"
      ],
      "metadata": {
        "id": "kpeZ8nLNr-2h"
      },
      "execution_count": 21,
      "outputs": []
    },
    {
      "cell_type": "code",
      "source": [
        "train_df.groupBy(\"topic\")\\\n",
        "    .count()\\\n",
        "    .orderBy(F.col(\"count\").desc())\\\n",
        "    .show()"
      ],
      "metadata": {
        "id": "fiqHm9fZsBzy",
        "colab": {
          "base_uri": "https://localhost:8080/"
        },
        "outputId": "d8ba5afc-e007-42bd-fee3-be005fb3bc89"
      },
      "execution_count": 22,
      "outputs": [
        {
          "output_type": "stream",
          "name": "stdout",
          "text": [
            "+--------------+-----+\n",
            "|         topic|count|\n",
            "+--------------+-----+\n",
            "|        Россия| 7880|\n",
            "|           Мир| 3680|\n",
            "|     Экономика| 2228|\n",
            "|Интернет и СМИ| 1510|\n",
            "|         Спорт|  793|\n",
            "+--------------+-----+\n",
            "\n"
          ]
        }
      ]
    },
    {
      "cell_type": "code",
      "source": [
        "test_df.groupBy(\"topic\")\\\n",
        "    .count()\\\n",
        "    .orderBy(F.col(\"count\").desc())\\\n",
        "    .show()"
      ],
      "metadata": {
        "id": "vqmoOvTYsE4y",
        "colab": {
          "base_uri": "https://localhost:8080/"
        },
        "outputId": "ba7d4611-a5e7-465a-9384-13b32b603434"
      },
      "execution_count": 23,
      "outputs": [
        {
          "output_type": "stream",
          "name": "stdout",
          "text": [
            "+--------------+-----+\n",
            "|         topic|count|\n",
            "+--------------+-----+\n",
            "|        Россия| 2028|\n",
            "|           Мир|  965|\n",
            "|     Экономика|  568|\n",
            "|Интернет и СМИ|  414|\n",
            "|         Спорт|  216|\n",
            "+--------------+-----+\n",
            "\n"
          ]
        }
      ]
    },
    {
      "cell_type": "code",
      "source": [
        "document_assembler = DocumentAssembler()\\\n",
        "    .setInputCol(\"text\")\\\n",
        "    .setOutputCol(\"document\")"
      ],
      "metadata": {
        "id": "Hdwut6RAsIul"
      },
      "execution_count": 24,
      "outputs": []
    },
    {
      "cell_type": "code",
      "source": [
        "sentence_detector = SentenceDetector()\\\n",
        "    .setInputCols(['document'])\\\n",
        "    .setOutputCol('sentence')"
      ],
      "metadata": {
        "id": "6tw2VZ3OsMEY"
      },
      "execution_count": 25,
      "outputs": []
    },
    {
      "cell_type": "code",
      "source": [
        "tokenizer = Tokenizer()\\\n",
        "    .setInputCols(['sentence'])\\\n",
        "    .setOutputCol('token')"
      ],
      "metadata": {
        "id": "zGsXUQPTsO7a"
      },
      "execution_count": 26,
      "outputs": []
    },
    {
      "cell_type": "code",
      "source": [
        "stop_words_cleaner = StopWordsCleaner\\\n",
        "    .pretrained('stopwords_ru', 'ru')\\\n",
        "    .setInputCols([\"token\"]) \\\n",
        "    .setOutputCol(\"cleanTokens\") \\\n",
        "    .setCaseSensitive(False)"
      ],
      "metadata": {
        "id": "zS4_qZHGsSel",
        "colab": {
          "base_uri": "https://localhost:8080/"
        },
        "outputId": "d1e808bc-8559-4da6-a6b8-3ac45901f355"
      },
      "execution_count": 27,
      "outputs": [
        {
          "output_type": "stream",
          "name": "stdout",
          "text": [
            "stopwords_ru download started this may take some time.\n",
            "Approximate size to download 2.9 KB\n",
            "[OK!]\n"
          ]
        }
      ]
    },
    {
      "cell_type": "code",
      "source": [
        "lemmatizer = LemmatizerModel\\\n",
        "    .pretrained(\"lemma\", \"ru\") \\\n",
        "    .setInputCols([\"cleanTokens\"]) \\\n",
        "    .setOutputCol(\"lemma\")"
      ],
      "metadata": {
        "id": "tegulRB3sV59",
        "colab": {
          "base_uri": "https://localhost:8080/"
        },
        "outputId": "e35e76f6-03a0-4d5f-d4ac-c4c2f20c0e81"
      },
      "execution_count": 28,
      "outputs": [
        {
          "output_type": "stream",
          "name": "stdout",
          "text": [
            "lemma download started this may take some time.\n",
            "Approximate size to download 1.3 MB\n",
            "[OK!]\n"
          ]
        }
      ]
    },
    {
      "cell_type": "code",
      "source": [
        "finisher = Finisher() \\\n",
        "    .setInputCols([\"lemma\"]) \\\n",
        "    .setOutputCols([\"token_features\"]) \\\n",
        "    .setOutputAsArray(True) \\\n",
        "    .setCleanAnnotations(False)"
      ],
      "metadata": {
        "id": "SDEE4Np6sWt2"
      },
      "execution_count": 29,
      "outputs": []
    },
    {
      "cell_type": "code",
      "source": [
        "hashing_TF = HashingTF(\n",
        "    inputCol=\"token_features\",\n",
        "    outputCol=\"raw_features\")"
      ],
      "metadata": {
        "id": "mtSf72issb-y"
      },
      "execution_count": 30,
      "outputs": []
    },
    {
      "cell_type": "code",
      "source": [
        "idf = IDF(\n",
        "    inputCol=\"raw_features\",\n",
        "    outputCol=\"features\",\n",
        "    minDocFreq=5)"
      ],
      "metadata": {
        "id": "XnEV4JeMsfTB"
      },
      "execution_count": 31,
      "outputs": []
    },
    {
      "cell_type": "code",
      "source": [
        "topic_indexer = StringIndexer(\n",
        "    inputCol=\"topic\",\n",
        "    outputCol=\"label\")"
      ],
      "metadata": {
        "id": "BSWwVacMsiiN"
      },
      "execution_count": 32,
      "outputs": []
    },
    {
      "cell_type": "code",
      "source": [
        "bayes_classificator = NaiveBayes(\n",
        "    smoothing=111)"
      ],
      "metadata": {
        "id": "UpsUOtoIsl0r"
      },
      "execution_count": 33,
      "outputs": []
    },
    {
      "cell_type": "code",
      "source": [
        "topic_to_string_indexer = IndexToString(\n",
        "    inputCol=\"label\",\n",
        "    outputCol=\"article_class\")"
      ],
      "metadata": {
        "id": "8ql0a_Nvsp-t"
      },
      "execution_count": 34,
      "outputs": []
    },
    {
      "cell_type": "code",
      "source": [
        "pipeline = Pipeline(\n",
        "    stages=[\n",
        "        document_assembler,\n",
        "        sentence_detector,\n",
        "        tokenizer,\n",
        "        stop_words_cleaner,\n",
        "        lemmatizer,\n",
        "        finisher,\n",
        "        hashing_TF,\n",
        "        idf,\n",
        "        topic_indexer,\n",
        "        bayes_classificator,\n",
        "        topic_to_string_indexer])"
      ],
      "metadata": {
        "id": "IQgXXIaNstKy"
      },
      "execution_count": 35,
      "outputs": []
    },
    {
      "cell_type": "code",
      "source": [
        "%%time\n",
        "classification_model = pipeline.fit(train_df)"
      ],
      "metadata": {
        "id": "0T3VZI-vswgM",
        "colab": {
          "base_uri": "https://localhost:8080/"
        },
        "outputId": "c7d17366-dcbe-4a5d-d955-ad3b02420a53"
      },
      "execution_count": 36,
      "outputs": [
        {
          "output_type": "stream",
          "name": "stdout",
          "text": [
            "CPU times: user 2 s, sys: 247 ms, total: 2.25 s\n",
            "Wall time: 5min 43s\n"
          ]
        }
      ]
    },
    {
      "cell_type": "code",
      "source": [
        "from sklearn.metrics import classification_report, accuracy_score"
      ],
      "metadata": {
        "id": "hB_YCIjvszw4"
      },
      "execution_count": 37,
      "outputs": []
    },
    {
      "cell_type": "code",
      "source": [
        "df_bayes = classification_model \\\n",
        "    .transform(test_df) \\\n",
        "    .select(\"topic\", \"label\", \"prediction\", \"text\")\n",
        "df_bayes_pandas = df_bayes.toPandas()"
      ],
      "metadata": {
        "id": "mdfKItzGs0s7"
      },
      "execution_count": 38,
      "outputs": []
    },
    {
      "cell_type": "code",
      "source": [
        "labels_df = df_bayes\\\n",
        "    .select(\"label\", \"topic\")\\\n",
        "    .distinct()\\\n",
        "    .orderBy(\"label\")\n",
        "labels_df.show()"
      ],
      "metadata": {
        "id": "hx-4TXpUs52e",
        "colab": {
          "base_uri": "https://localhost:8080/"
        },
        "outputId": "6600f158-b083-4426-b21a-73f00260ddb1"
      },
      "execution_count": 39,
      "outputs": [
        {
          "output_type": "stream",
          "name": "stdout",
          "text": [
            "+-----+--------------+\n",
            "|label|         topic|\n",
            "+-----+--------------+\n",
            "|  0.0|        Россия|\n",
            "|  1.0|           Мир|\n",
            "|  2.0|     Экономика|\n",
            "|  3.0|Интернет и СМИ|\n",
            "|  4.0|         Спорт|\n",
            "+-----+--------------+\n",
            "\n"
          ]
        }
      ]
    },
    {
      "cell_type": "code",
      "source": [
        "labels_raw = labels_df.collect()\n",
        "labels = [row.topic for row in labels_raw]\n",
        "labels"
      ],
      "metadata": {
        "id": "03qKosiHs9CE",
        "colab": {
          "base_uri": "https://localhost:8080/"
        },
        "outputId": "a9f8c10a-1fea-4107-c51e-5078756ce425"
      },
      "execution_count": 40,
      "outputs": [
        {
          "output_type": "execute_result",
          "data": {
            "text/plain": [
              "['Россия', 'Мир', 'Экономика', 'Интернет и СМИ', 'Спорт']"
            ]
          },
          "metadata": {},
          "execution_count": 40
        }
      ]
    },
    {
      "cell_type": "code",
      "source": [
        "print(classification_report(\n",
        "    df_bayes_pandas.label, df_bayes_pandas.prediction, target_names=labels))"
      ],
      "metadata": {
        "id": "ZvE9oDZStAEh",
        "colab": {
          "base_uri": "https://localhost:8080/"
        },
        "outputId": "7f34b98c-9c7f-4a33-9110-fc7f4c03bc4c"
      },
      "execution_count": 41,
      "outputs": [
        {
          "output_type": "stream",
          "name": "stdout",
          "text": [
            "                precision    recall  f1-score   support\n",
            "\n",
            "        Россия       0.58      0.99      0.73      5181\n",
            "           Мир       0.93      0.43      0.59      3445\n",
            "     Экономика       0.96      0.41      0.57      1453\n",
            "Интернет и СМИ       0.94      0.21      0.35       917\n",
            "         Спорт       1.00      0.68      0.81       749\n",
            "\n",
            "      accuracy                           0.67     11745\n",
            "     macro avg       0.88      0.54      0.61     11745\n",
            "  weighted avg       0.79      0.67      0.65     11745\n",
            "\n"
          ]
        }
      ]
    },
    {
      "cell_type": "code",
      "source": [
        "print(accuracy_score(\n",
        "    df_bayes_pandas.label, df_bayes_pandas.prediction))"
      ],
      "metadata": {
        "id": "npZQjwMhtEkl",
        "colab": {
          "base_uri": "https://localhost:8080/"
        },
        "outputId": "2514f3e0-6ca8-4ad4-acc6-7779a16c6694"
      },
      "execution_count": 42,
      "outputs": [
        {
          "output_type": "stream",
          "name": "stdout",
          "text": [
            "0.6738186462324394\n"
          ]
        }
      ]
    }
  ]
}